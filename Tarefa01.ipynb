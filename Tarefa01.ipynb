{
 "cells": [
  {
   "attachments": {},
   "cell_type": "markdown",
   "metadata": {},
   "source": [
    "#### 1. Execute e analise a saída do seguinte código"
   ]
  },
  {
   "cell_type": "code",
   "execution_count": 1,
   "metadata": {},
   "outputs": [
    {
     "name": "stdout",
     "output_type": "stream",
     "text": [
      "[0, 5, 10, 15, 20, 25, 30, 35, 40, 45, 50, 55, 60, 65, 70, 75, 80, 85, 90, 95]\n"
     ]
    }
   ],
   "source": [
    "#Declara as variáveis\n",
    "# Criamos uma lista vazia chamada 'numeros'\n",
    "# Verificamos quais números são divísiveis por 5 numa escala entre 0 e 100\n",
    "# Adicionamos a lista 'numeros' os resultados\n",
    "# Imprimimos a lista \n",
    "\n",
    "inicio = 0\n",
    "fim = 100\n",
    "\n",
    "numeros = []\n",
    "for numero in range(inicio, fim):\n",
    "    if numero % 5 == 0:\n",
    "        numeros.append(numero)\n",
    "print(numeros)"
   ]
  },
  {
   "attachments": {},
   "cell_type": "markdown",
   "metadata": {},
   "source": [
    "#### 2. Altere o código da atividade 1 para que ele exiba os números múltiplos de 2, 5 e 7 (simultaneamente) e que estejam dentro do intervalo entre 100 e 500 (incluindo o 100 e o 500)."
   ]
  },
  {
   "cell_type": "code",
   "execution_count": 2,
   "metadata": {},
   "outputs": [
    {
     "name": "stdout",
     "output_type": "stream",
     "text": [
      "[100, 102, 104, 105, 106, 108, 110, 112, 114, 115, 116, 118, 119, 120, 122, 124, 125, 126, 128, 130, 132, 133, 134, 135, 136, 138, 140, 142, 144, 145, 146, 147, 148, 150, 152, 154, 155, 156, 158, 160, 161, 162, 164, 165, 166, 168, 170, 172, 174, 175, 176, 178, 180, 182, 184, 185, 186, 188, 189, 190, 192, 194, 195, 196, 198, 200, 202, 203, 204, 205, 206, 208, 210, 212, 214, 215, 216, 217, 218, 220, 222, 224, 225, 226, 228, 230, 231, 232, 234, 235, 236, 238, 240, 242, 244, 245, 246, 248, 250, 252, 254, 255, 256, 258, 259, 260, 262, 264, 265, 266, 268, 270, 272, 273, 274, 275, 276, 278, 280, 282, 284, 285, 286, 287, 288, 290, 292, 294, 295, 296, 298, 300, 301, 302, 304, 305, 306, 308, 310, 312, 314, 315, 316, 318, 320, 322, 324, 325, 326, 328, 329, 330, 332, 334, 335, 336, 338, 340, 342, 343, 344, 345, 346, 348, 350, 352, 354, 355, 356, 357, 358, 360, 362, 364, 365, 366, 368, 370, 371, 372, 374, 375, 376, 378, 380, 382, 384, 385, 386, 388, 390, 392, 394, 395, 396, 398, 399, 400, 402, 404, 405, 406, 408, 410, 412, 413, 414, 415, 416, 418, 420, 422, 424, 425, 426, 427, 428, 430, 432, 434, 435, 436, 438, 440, 441, 442, 444, 445, 446, 448, 450, 452, 454, 455, 456, 458, 460, 462, 464, 465, 466, 468, 469, 470, 472, 474, 475, 476, 478, 480, 482, 483, 484, 485, 486, 488, 490, 492, 494, 495, 496, 497, 498, 500]\n"
     ]
    }
   ],
   "source": [
    "# Criamos uma lista vazia chamada 'numeros_2\n",
    "# Iteramos sobre cada elemento numa escala entre 100 a 500\n",
    "# Criamos uma condicional 'if' que verifica se o elemento dividido por 2 é verdadeiro\n",
    "# Também verificamos com a condicional 'or' se o elemento dividido por 5 ou 7 também é verdadeiro\n",
    "# Se verdadeiro incluímos na lista vazia com o método append o elemento verdadeiro\n",
    "# Imprimimos a lista numero_2 com os resultados\n",
    "\n",
    "numeros_2 = []\n",
    "for numero in range(100, 501):\n",
    "    if numero % 2 == 0 or numero % 5 == 0 or numero % 7 == 0:\n",
    "        numeros_2.append(numero)\n",
    "print(numeros_2)"
   ]
  },
  {
   "attachments": {},
   "cell_type": "markdown",
   "metadata": {},
   "source": [
    "#### 3. Altere o código da atividade 1, criando uma variável divisor e, em seguida,verifique quais os números no intervalo entre 0 e 1000 (incluindo o 0 e excluindo o 1000) são múltiplos da variável divisor. "
   ]
  },
  {
   "cell_type": "code",
   "execution_count": 3,
   "metadata": {},
   "outputs": [
    {
     "name": "stdout",
     "output_type": "stream",
     "text": [
      "[0, 5, 10, 15, 20, 25, 30, 35, 40, 45, 50, 55, 60, 65, 70, 75, 80, 85, 90, 95, 100, 105, 110, 115, 120, 125, 130, 135, 140, 145, 150, 155, 160, 165, 170, 175, 180, 185, 190, 195, 200, 205, 210, 215, 220, 225, 230, 235, 240, 245, 250, 255, 260, 265, 270, 275, 280, 285, 290, 295, 300, 305, 310, 315, 320, 325, 330, 335, 340, 345, 350, 355, 360, 365, 370, 375, 380, 385, 390, 395, 400, 405, 410, 415, 420, 425, 430, 435, 440, 445, 450, 455, 460, 465, 470, 475, 480, 485, 490, 495, 500, 505, 510, 515, 520, 525, 530, 535, 540, 545, 550, 555, 560, 565, 570, 575, 580, 585, 590, 595, 600, 605, 610, 615, 620, 625, 630, 635, 640, 645, 650, 655, 660, 665, 670, 675, 680, 685, 690, 695, 700, 705, 710, 715, 720, 725, 730, 735, 740, 745, 750, 755, 760, 765, 770, 775, 780, 785, 790, 795, 800, 805, 810, 815, 820, 825, 830, 835, 840, 845, 850, 855, 860, 865, 870, 875, 880, 885, 890, 895, 900, 905, 910, 915, 920, 925, 930, 935, 940, 945, 950, 955, 960, 965, 970, 975, 980, 985, 990, 995]\n"
     ]
    }
   ],
   "source": [
    "#Declara as variáveis\n",
    "div = 5\n",
    "inicio = 0\n",
    "fim = 1000\n",
    "\n",
    "# Criamos uma lista vazia chamada 'numeros'\n",
    "# Verificamos quais números são divísiveis por 5 numa escala entre 0 e 100\n",
    "# Adicionamos a lista 'numeros' os resultados\n",
    "# Imprimimos a lista \n",
    "numeros = []\n",
    "for numero in range(inicio, fim):\n",
    "    if numero % int(div) == 0:\n",
    "        numeros.append(numero)\n",
    "print(numeros)"
   ]
  },
  {
   "attachments": {},
   "cell_type": "markdown",
   "metadata": {},
   "source": [
    "#### 4. Crie um código declarando as seguintes variáveis do tipo string:\n",
    "\n"
   ]
  },
  {
   "cell_type": "code",
   "execution_count": 4,
   "metadata": {},
   "outputs": [],
   "source": [
    "nome = 'João da Silva'\n",
    "cidade = 'São Paulo'\n",
    "cpf = '123.456.789-00'"
   ]
  },
  {
   "cell_type": "code",
   "execution_count": 5,
   "metadata": {},
   "outputs": [
    {
     "name": "stdout",
     "output_type": "stream",
     "text": [
      "JOÃO DA SILVA SÃO PAULO 123.456.789-00\n"
     ]
    }
   ],
   "source": [
    "# ● Transforme todos os caracteres das variáveis em maiúsculo;\n",
    "# O método upper() é uma função específica aplicada a strings que transforma cada variável para garantir que todas as letras estejam em maiúsculo.\n",
    "# Imprimimos as variáveis 'nome', 'cidade' e 'cpf'\n",
    "nome = nome.upper()\n",
    "cidade = cidade.upper()\n",
    "cpf = cpf.upper()\n",
    "print(nome,cidade,cpf)"
   ]
  },
  {
   "cell_type": "code",
   "execution_count": 6,
   "metadata": {},
   "outputs": [
    {
     "name": "stdout",
     "output_type": "stream",
     "text": [
      "joão da silva são paulo 123.456.789-00\n"
     ]
    }
   ],
   "source": [
    "# ● Transforme todos os caracteres das variáveis em minúsculo;\n",
    "# O método lower() é uma função específica aplicada a strings que transforma cada variável para garantir que todas as letras estejam em minúsculo.\n",
    "# Imprimimos as variáveis 'nome', 'cidade' e 'cpf' \n",
    "nome = nome.lower()\n",
    "cidade = cidade.lower()\n",
    "cpf = cpf.lower()\n",
    "print(nome,cidade,cpf)\n"
   ]
  },
  {
   "cell_type": "code",
   "execution_count": 7,
   "metadata": {},
   "outputs": [
    {
     "name": "stdout",
     "output_type": "stream",
     "text": [
      "A posição do caractere 'ã' em 'nome' é 2\n",
      "A posição do caractere 'ã' em 'cidade' é 1\n",
      "A variável 'cpf' não contém o caractere 'ã'\n"
     ]
    }
   ],
   "source": [
    "# ● Exiba a posição do caractere ã, se presente, em cada uma das variáveis;\n",
    "#  Criamos uma função 'exibir_resultado' que recebe dois parâmetros: 'variavel' e 'posicao'\n",
    "#  A função 'exibir_resultado' imprime a mensagem apropriada com base na posição do caractere 'ã'\n",
    "# 'variavel': nome da variável que está sendo verificada\n",
    "# 'posicao': posição do caractere 'ã' na variável (se presente), ou -1 caso contrário.\n",
    "# Aplicamos o método find() para procurar o caractere 'ã' em cada variável\n",
    "# Chamamos a função 'exibir_resultado' para exibir o resultado de cada verificação\n",
    "\n",
    "def exibir_resultado(variavel, posicao): \n",
    "    if posicao == -1:\n",
    "        print(f\"A variável '{variavel}' não contém o caractere 'ã'\")\n",
    "    else:\n",
    "        print(f\"A posição do caractere 'ã' em '{variavel}' é {posicao}\")\n",
    "\n",
    "\n",
    "pos_nome = nome.find('ã')\n",
    "pos_cidade = cidade.find('ã')\n",
    "pos_cpf = cpf.find('ã')\n",
    "\n",
    "exibir_resultado('nome', pos_nome)\n",
    "exibir_resultado('cidade', pos_cidade)\n",
    "exibir_resultado('cpf', pos_cpf)\n",
    "\n"
   ]
  },
  {
   "cell_type": "code",
   "execution_count": 8,
   "metadata": {},
   "outputs": [
    {
     "name": "stdout",
     "output_type": "stream",
     "text": [
      "[13, 9, 14]\n"
     ]
    }
   ],
   "source": [
    "# ● Exiba o número de caracteres de cada variável;\n",
    "# Definimos a função 'tamanho' que recebe uma variável como argumento\n",
    "# Utilizamos list comprehension para chamar a função 'tamanho' em cada variável\n",
    "# Imprimimos a lista de resultados\n",
    "def tamanho(variavel):\n",
    "    return len(variavel)\n",
    "    \n",
    " \n",
    "resultados = [tamanho(variavel) for variavel in [nome, cidade, cpf]]\n",
    "print(resultados)\n"
   ]
  },
  {
   "cell_type": "code",
   "execution_count": 9,
   "metadata": {},
   "outputs": [
    {
     "name": "stdout",
     "output_type": "stream",
     "text": [
      "12345678900\n"
     ]
    }
   ],
   "source": [
    "# ● Remova os pontos (.) e o hífen (–) da variável cpf\n",
    "# Aplicamos o método replace() para substituir ponto e hífen por espaço vazio\n",
    "# Imprimimos o resultado\n",
    "\n",
    "cpf = cpf.replace('.','')\n",
    "cpf = cpf.replace('-','')\n",
    "print(cpf)"
   ]
  },
  {
   "attachments": {},
   "cell_type": "markdown",
   "metadata": {},
   "source": [
    "#### 5. Crie um código que realize o somatório de todos os caracteres da seguinte string:"
   ]
  },
  {
   "attachments": {},
   "cell_type": "markdown",
   "metadata": {},
   "source": [
    "##### Para resolver este problema, considere as seguintes dicas:\n",
    "##### ● A soma deverá ser 1 + 2 + 7 + 9 + 5 + 7 = 31;\n",
    "##### ● Utilize o laço de repetição for … in; para percorrer cada caractere da string;\n",
    "##### ● Utilize a conversão do tipo string para o tipo inteiro (int(caractere)) para converter os caracteres em valores numéricos;\n",
    "##### ● Utilize uma variável auxiliar, soma, para acumular o somatório dos valores."
   ]
  },
  {
   "cell_type": "code",
   "execution_count": 13,
   "metadata": {},
   "outputs": [
    {
     "name": "stdout",
     "output_type": "stream",
     "text": [
      "31\n"
     ]
    }
   ],
   "source": [
    "numeros = '127957'\n",
    "soma = 0\n",
    "for valor in numeros:\n",
    "    soma += int(valor)\n",
    "print(soma)\n"
   ]
  }
 ],
 "metadata": {
  "kernelspec": {
   "display_name": "Python 3",
   "language": "python",
   "name": "python3"
  },
  "language_info": {
   "codemirror_mode": {
    "name": "ipython",
    "version": 3
   },
   "file_extension": ".py",
   "mimetype": "text/x-python",
   "name": "python",
   "nbconvert_exporter": "python",
   "pygments_lexer": "ipython3",
   "version": "3.11.4"
  },
  "orig_nbformat": 4
 },
 "nbformat": 4,
 "nbformat_minor": 2
}
